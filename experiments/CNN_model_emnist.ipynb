{
 "cells": [
  {
   "cell_type": "markdown",
   "metadata": {},
   "source": [
    "# Model Definition"
   ]
  },
  {
   "cell_type": "code",
   "execution_count": 1,
   "metadata": {},
   "outputs": [],
   "source": [
    "import pandas as pd\n",
    "import numpy as np\n",
    "import matplotlib.pyplot as plt\n",
    "from sklearn.model_selection import train_test_split\n",
    "from tensorflow.keras.models import Sequential\n",
    "from tensorflow.keras.layers import Conv2D, MaxPooling2D, Flatten, Dense\n",
    "from tensorflow.keras.layers import Input\n",
    "\n",
    "def load_data(train_path, test_path):\n",
    "    train_df = pd.read_csv(train_path, header=None)\n",
    "    test_df = pd.read_csv(test_path, header=None)\n",
    "\n",
    "    x_train = train_df.iloc[:, 1:].values.astype('float32')\n",
    "    y_train = train_df.iloc[:, 0].values.astype('int32')\n",
    "    x_test = test_df.iloc[:, 1:].values.astype('float32')\n",
    "    y_test = test_df.iloc[:, 0].values.astype('int32')\n",
    "\n",
    "    x_train = x_train.reshape(x_train.shape[0], 28, 28, 1) / 255.0\n",
    "    x_test = x_test.reshape(x_test.shape[0], 28, 28, 1) / 255.0\n",
    "\n",
    "    x_train, x_val, y_train, y_val = train_test_split(x_train, y_train, test_size=0.1, random_state=42)\n",
    "\n",
    "    return x_train, y_train, x_val, y_val, x_test, y_test\n",
    "\n",
    "def build_model():\n",
    "    model = Sequential([\n",
    "        Input(shape=(28, 28, 1)),\n",
    "        Conv2D(32, (3, 3), activation='relu'),\n",
    "        MaxPooling2D((2, 2)),\n",
    "        Conv2D(64, (3, 3), activation='relu'),\n",
    "        MaxPooling2D((2, 2)),\n",
    "        Flatten(),\n",
    "        Dense(128, activation='relu'),\n",
    "        Dense(47, activation='softmax')  # 47 classes for EMNIST Balanced\n",
    "    ])\n",
    "    model.compile(optimizer='adam', loss='sparse_categorical_crossentropy', metrics=['accuracy'])\n",
    "    return model\n",
    "\n",
    "def train_and_evaluate_model(model, x_train, y_train, x_val, y_val, x_test, y_test, epochs=1, batch_size=128):\n",
    "    history = model.fit(x_train, y_train, epochs=epochs, batch_size=batch_size, validation_data=(x_val, y_val))\n",
    "    loss, accuracy = model.evaluate(x_test, y_test)\n",
    "    print(f'Test accuracy: {accuracy:.4f}')\n",
    "    print(f'Loss accuracy: {loss:.4f}')\n",
    "    return history\n",
    "\n",
    "def plot_history(history):\n",
    "    plt.figure(figsize=(8, 6))\n",
    "    plt.plot(history.history['accuracy'], label='Training Accuracy')\n",
    "    plt.plot(history.history['val_accuracy'], label='Validation Accuracy')\n",
    "    plt.xlabel('Epoch')\n",
    "    plt.ylabel('Accuracy')\n",
    "    plt.legend()\n",
    "    plt.show()"
   ]
  },
  {
   "cell_type": "markdown",
   "metadata": {},
   "source": [
    "# Emnist Dataset"
   ]
  },
  {
   "cell_type": "code",
   "execution_count": 2,
   "metadata": {},
   "outputs": [],
   "source": [
    "train_path = '../data/emnist/emnist-balanced-train.csv'\n",
    "test_path = '../data/emnist/emnist-balanced-test.csv'\n",
    "\n",
    "x_train, y_train, x_val, y_val, x_test, y_test = load_data(train_path, test_path)\n",
    "model = build_model()\n",
    "history = train_and_evaluate_model(model, x_train, y_train, x_val, y_val, x_test, y_test)\n",
    "plot_history(history)\n",
    "# model.save('emnist_cnn_model.h5')"
   ]
  },
  {
   "cell_type": "code",
   "execution_count": null,
   "metadata": {},
   "outputs": [
    {
     "name": "stdout",
     "output_type": "stream",
     "text": [
      "{0: '0', 1: '1', 2: '2', 3: '3', 4: '4', 5: '5', 6: '6', 7: '7', 8: '8', 9: '9', 10: 'A', 11: 'B', 12: 'C', 13: 'D', 14: 'E', 15: 'F', 16: 'G', 17: 'H', 18: 'I', 19: 'J', 20: 'K', 21: 'L', 22: 'M', 23: 'N', 24: 'O', 25: 'P', 26: 'Q', 27: 'R', 28: 'S', 29: 'T', 30: 'U', 31: 'V', 32: 'W', 33: 'X', 34: 'Y', 35: 'Z', 36: 'a', 37: 'b', 38: 'd', 39: 'e', 40: 'f', 41: 'g', 42: 'h', 43: 'n', 44: 'q', 45: 'r', 46: 't'}\n"
     ]
    }
   ],
   "source": [
    "# Initialize an empty dictionary\n",
    "label_dictionary = {}\n",
    "\n",
    "# Open the file and read its contents\n",
    "file_path = \"../data/emnist/emnist-balanced-mapping.txt\"\n",
    "with open(file_path, 'r') as file:\n",
    "    # Read lines from the file\n",
    "    lines = file.readlines()\n",
    "    \n",
    "    # Iterate over each line\n",
    "    for line in lines:\n",
    "        # Split each line based on space\n",
    "        parts = line.split()\n",
    "        \n",
    "        # Ensure the line is in the expected format\n",
    "        if len(parts) == 2:\n",
    "            index = int(parts[0])  # Convert the index to integer\n",
    "            ascii_value = int(parts[1])  # Convert the ASCII value to integer\n",
    "            \n",
    "            # Convert ASCII value to character\n",
    "            character = chr(ascii_value)\n",
    "            \n",
    "            # Add to dictionary\n",
    "            label_dictionary[index] = character\n",
    "\n",
    "# Print the populated dictionary\n",
    "print(label_dictionary)\n"
   ]
  },
  {
   "cell_type": "code",
   "execution_count": null,
   "metadata": {},
   "outputs": [
    {
     "name": "stdout",
     "output_type": "stream",
     "text": [
      "\u001b[1m588/588\u001b[0m \u001b[32m━━━━━━━━━━━━━━━━━━━━\u001b[0m\u001b[37m\u001b[0m \u001b[1m2s\u001b[0m 3ms/step\n"
     ]
    },
    {
     "data": {
      "image/png": "[encoded data removed]",
      "text/plain": [
       "<Figure size 640x480 with 1 Axes>"
      ]
     },
     "metadata": {},
     "output_type": "display_data"
    }
   ],
   "source": [
    "example_index = 10 \n",
    "predictions = model.predict(x_test)\n",
    "predicted_labels = np.argmax(predictions, axis=1)\n",
    "\n",
    "example_index_test = 10\n",
    "plt.figure()\n",
    "plt.imshow(x_test[example_index_test].reshape(28, 28), cmap='gray')\n",
    "plt.title(f'Predicted: {label_dictionary[predicted_labels[example_index_test]]}, Actual: {y_test[example_index_test]}')\n",
    "plt.axis('off')\n",
    "plt.show()"
   ]
  }
 ],
 "metadata": {
  "kernelspec": {
   "display_name": "Python 3",
   "language": "python",
   "name": "python3"
  },
  "language_info": {
   "codemirror_mode": {
    "name": "ipython",
    "version": 3
   },
   "file_extension": ".py",
   "mimetype": "text/x-python",
   "name": "python",
   "nbconvert_exporter": "python",
   "pygments_lexer": "ipython3",
   "version": "3.11.9"
  }
 },
 "nbformat": 4,
 "nbformat_minor": 2
}
